{
 "cells": [
  {
   "cell_type": "code",
   "execution_count": 1,
   "metadata": {},
   "outputs": [],
   "source": [
    "import numpy as np\n",
    "import pandas as pd\n",
    "import _pickle as pickle"
   ]
  },
  {
   "cell_type": "code",
   "execution_count": 2,
   "metadata": {},
   "outputs": [],
   "source": [
    "with open('fingerprint.dat', 'rb') as fp:\n",
    "    X_train = pickle.load(fp)\n",
    "    X_train_std = pickle.load(fp)\n",
    "    X_test = pickle.load(fp)\n",
    "    X_test_std = pickle.load(fp)\n",
    "    y_train = pickle.load(fp)\n",
    "    y_test = pickle.load(fp)"
   ]
  },
  {
   "cell_type": "code",
   "execution_count": 3,
   "metadata": {},
   "outputs": [
    {
     "name": "stdout",
     "output_type": "stream",
     "text": [
      "X_train shape:  (400, 6)\n",
      "X_test shape:  (100, 6)\n",
      "y_train shape:  (400,)\n",
      "y_test shape:  (100,)\n"
     ]
    }
   ],
   "source": [
    "print(\"X_train shape: \", X_train.shape)\n",
    "print(\"X_test shape: \", X_test.shape)\n",
    "print(\"y_train shape: \", y_train.shape)\n",
    "print(\"y_test shape: \", y_test.shape)"
   ]
  },
  {
   "cell_type": "markdown",
   "metadata": {},
   "source": [
    "# logistic regression"
   ]
  },
  {
   "cell_type": "code",
   "execution_count": 4,
   "metadata": {},
   "outputs": [],
   "source": [
    "from sklearn.linear_model import LogisticRegression\n",
    "from sklearn.model_selection import cross_val_score"
   ]
  },
  {
   "cell_type": "code",
   "execution_count": 5,
   "metadata": {},
   "outputs": [
    {
     "name": "stdout",
     "output_type": "stream",
     "text": [
      "log_scores:  [0.925 0.9   0.95  0.95  1.    1.    0.875 0.925 0.95  0.9  ]\n",
      "Mean score:  0.9375\n",
      "Std deviation:  0.03913118960624631\n"
     ]
    }
   ],
   "source": [
    "log_model = LogisticRegression(solver = 'lbfgs', random_state = 42)\n",
    "log_scores = cross_val_score(log_model, X_train_std, y_train, cv = 10)\n",
    "print(\"log_scores: \", log_scores)\n",
    "print(\"Mean score: \", log_scores.mean())\n",
    "print(\"Std deviation: \", log_scores.std())"
   ]
  },
  {
   "cell_type": "code",
   "execution_count": 6,
   "metadata": {},
   "outputs": [
    {
     "data": {
      "text/plain": [
       "LogisticRegression(C=1.0, class_weight=None, dual=False, fit_intercept=True,\n",
       "          intercept_scaling=1, max_iter=100, multi_class='warn',\n",
       "          n_jobs=None, penalty='l2', random_state=42, solver='lbfgs',\n",
       "          tol=0.0001, verbose=0, warm_start=False)"
      ]
     },
     "execution_count": 6,
     "metadata": {},
     "output_type": "execute_result"
    }
   ],
   "source": [
    "log_model.fit(X_train_std, y_train)"
   ]
  },
  {
   "cell_type": "code",
   "execution_count": 55,
   "metadata": {},
   "outputs": [
    {
     "name": "stdout",
     "output_type": "stream",
     "text": [
      "0.94\n"
     ]
    }
   ],
   "source": [
    "log_reg_score = log_model.score(X_test_std, y_test)\n",
    "print(log_reg_score)"
   ]
  },
  {
   "cell_type": "code",
   "execution_count": 8,
   "metadata": {},
   "outputs": [],
   "source": [
    "log_yy_pred = log_model.predict(X_test_std)"
   ]
  },
  {
   "cell_type": "code",
   "execution_count": 9,
   "metadata": {},
   "outputs": [
    {
     "name": "stdout",
     "output_type": "stream",
     "text": [
      "[[48  2]\n",
      " [ 4 46]]\n"
     ]
    }
   ],
   "source": [
    "from sklearn.metrics import confusion_matrix\n",
    "confMatrix = confusion_matrix(y_true=y_test, y_pred=log_yy_pred)\n",
    "print(confMatrix)"
   ]
  },
  {
   "cell_type": "code",
   "execution_count": 10,
   "metadata": {},
   "outputs": [
    {
     "name": "stdout",
     "output_type": "stream",
     "text": [
      "Precision: 0.958\n",
      "Recall: 0.920\n",
      "F1: 0.939\n"
     ]
    }
   ],
   "source": [
    "from sklearn.metrics import precision_score, recall_score, f1_score\n",
    "\n",
    "print('Precision: %.3f' % precision_score(y_true=y_test, y_pred=log_yy_pred))\n",
    "print('Recall: %.3f' % recall_score(y_true=y_test, y_pred=log_yy_pred))\n",
    "print('F1: %.3f' % f1_score(y_true=y_test, y_pred=log_yy_pred))"
   ]
  },
  {
   "cell_type": "markdown",
   "metadata": {},
   "source": [
    "# SVM"
   ]
  },
  {
   "cell_type": "markdown",
   "metadata": {},
   "source": [
    "## LINEAR KERNEL"
   ]
  },
  {
   "cell_type": "code",
   "execution_count": 11,
   "metadata": {},
   "outputs": [],
   "source": [
    "from sklearn.svm import SVC"
   ]
  },
  {
   "cell_type": "code",
   "execution_count": 12,
   "metadata": {},
   "outputs": [],
   "source": [
    "#Best estimator obtained from hyp_svc_linear_and rbf file\n",
    "svm_linear_model = SVC(C=12, cache_size=200, class_weight=None, coef0=0.0,\n",
    "  decision_function_shape='ovr', degree=3, gamma='auto_deprecated',\n",
    "  kernel='linear', max_iter=-1, probability=False, random_state=1,\n",
    "  shrinking=True, tol=0.001, verbose=False)"
   ]
  },
  {
   "cell_type": "code",
   "execution_count": 13,
   "metadata": {},
   "outputs": [
    {
     "name": "stdout",
     "output_type": "stream",
     "text": [
      "svm_linear_scores:  [0.95  0.9   0.95  0.975 1.    1.    0.875 0.925 0.95  0.875]\n",
      "Mean score:  0.9399999999999998\n",
      "Std deviation:  0.043588989435406726\n"
     ]
    }
   ],
   "source": [
    "svm_linear_scores = cross_val_score(svm_linear_model, X_train_std, y_train, cv = 10)\n",
    "print(\"svm_linear_scores: \", svm_linear_scores)\n",
    "print(\"Mean score: \", svm_linear_scores.mean())\n",
    "print(\"Std deviation: \", svm_linear_scores.std())"
   ]
  },
  {
   "cell_type": "code",
   "execution_count": 14,
   "metadata": {},
   "outputs": [
    {
     "data": {
      "text/plain": [
       "0.98"
      ]
     },
     "execution_count": 14,
     "metadata": {},
     "output_type": "execute_result"
    }
   ],
   "source": [
    "svm_linear_model.fit(X_train_std, y_train)\n",
    "svm_linear_score = svm_linear_model.score(X_test_std, y_test)\n",
    "svm_linear_score"
   ]
  },
  {
   "cell_type": "code",
   "execution_count": 15,
   "metadata": {},
   "outputs": [
    {
     "data": {
      "text/plain": [
       "array([0, 1, 0, 1, 1, 0, 0, 0, 1, 0, 0, 0, 0, 0, 1, 0, 1, 0, 1, 1, 0, 1,\n",
       "       1, 1, 1, 1, 1, 0, 1, 1, 1, 1, 1, 0, 1, 1, 0, 0, 1, 0, 0, 0, 0, 1,\n",
       "       1, 0, 0, 0, 0, 0, 0, 1, 1, 1, 0, 0, 1, 0, 0, 0, 1, 0, 0, 1, 0, 0,\n",
       "       0, 1, 1, 1, 0, 0, 0, 1, 1, 0, 0, 1, 1, 0, 0, 1, 0, 0, 1, 1, 1, 1,\n",
       "       1, 1, 1, 0, 1, 0, 0, 0, 0, 0, 1, 1])"
      ]
     },
     "execution_count": 15,
     "metadata": {},
     "output_type": "execute_result"
    }
   ],
   "source": [
    "svm_linear_yy_pred = svm_linear_model.predict(X_test_std) \n",
    "svm_linear_yy_pred"
   ]
  },
  {
   "cell_type": "code",
   "execution_count": 16,
   "metadata": {},
   "outputs": [
    {
     "name": "stdout",
     "output_type": "stream",
     "text": [
      "[[50  0]\n",
      " [ 2 48]]\n"
     ]
    }
   ],
   "source": [
    "svm_linear_model_confMatrix = confusion_matrix(y_true=y_test, y_pred=svm_linear_yy_pred)\n",
    "print(svm_linear_model_confMatrix)"
   ]
  },
  {
   "cell_type": "code",
   "execution_count": 17,
   "metadata": {},
   "outputs": [
    {
     "name": "stdout",
     "output_type": "stream",
     "text": [
      "Precision: 1.000\n",
      "Recall: 0.960\n",
      "F1: 0.980\n"
     ]
    }
   ],
   "source": [
    "print('Precision: %.3f' % precision_score(y_true=y_test, y_pred=svm_linear_yy_pred))\n",
    "print('Recall: %.3f' % recall_score(y_true=y_test, y_pred=svm_linear_yy_pred))\n",
    "print('F1: %.3f' % f1_score(y_true=y_test, y_pred=svm_linear_yy_pred))"
   ]
  },
  {
   "cell_type": "markdown",
   "metadata": {},
   "source": [
    "# rbf kernel"
   ]
  },
  {
   "cell_type": "code",
   "execution_count": 18,
   "metadata": {},
   "outputs": [],
   "source": [
    "#Best estimator obtained from hyp_svc_linear_and rbf file\n",
    "svm_rbf_model = SVC(C=4, cache_size=200, class_weight=None, coef0=0.0,\n",
    "  decision_function_shape='ovr', degree=3, gamma=0.7, kernel='rbf',\n",
    "  max_iter=-1, probability=False, random_state=1, shrinking=True,\n",
    "  tol=0.001, verbose=False)"
   ]
  },
  {
   "cell_type": "code",
   "execution_count": 19,
   "metadata": {},
   "outputs": [
    {
     "name": "stdout",
     "output_type": "stream",
     "text": [
      "svm_linear_scores:  [0.975 0.925 0.975 0.975 1.    0.975 0.925 0.95  0.975 0.95 ]\n",
      "Mean score:  0.9624999999999998\n",
      "Std deviation:  0.023048861143232204\n"
     ]
    }
   ],
   "source": [
    "svm_rbf_scores = cross_val_score(svm_rbf_model, X_train_std, y_train, cv = 10)\n",
    "print(\"svm_linear_scores: \", svm_rbf_scores)\n",
    "print(\"Mean score: \", svm_rbf_scores.mean())\n",
    "print(\"Std deviation: \", svm_rbf_scores.std())"
   ]
  },
  {
   "cell_type": "code",
   "execution_count": 20,
   "metadata": {},
   "outputs": [
    {
     "data": {
      "text/plain": [
       "0.99"
      ]
     },
     "execution_count": 20,
     "metadata": {},
     "output_type": "execute_result"
    }
   ],
   "source": [
    "svm_rbf_model.fit(X_train_std, y_train)\n",
    "svm_rbf_score = svm_rbf_model.score(X_test_std, y_test)\n",
    "svm_rbf_score"
   ]
  },
  {
   "cell_type": "code",
   "execution_count": 21,
   "metadata": {},
   "outputs": [],
   "source": [
    "svm_rbf_yy_pred = svm_rbf_model.predict(X_test_std) "
   ]
  },
  {
   "cell_type": "code",
   "execution_count": 22,
   "metadata": {},
   "outputs": [
    {
     "name": "stdout",
     "output_type": "stream",
     "text": [
      "[[49  1]\n",
      " [ 0 50]]\n"
     ]
    }
   ],
   "source": [
    "svm_rbf_model_confMatrix = confusion_matrix(y_true=y_test, y_pred=svm_rbf_yy_pred)\n",
    "print(svm_rbf_model_confMatrix)"
   ]
  },
  {
   "cell_type": "code",
   "execution_count": 23,
   "metadata": {},
   "outputs": [
    {
     "name": "stdout",
     "output_type": "stream",
     "text": [
      "Precision: 0.980\n",
      "Recall: 1.000\n",
      "F1: 0.990\n"
     ]
    }
   ],
   "source": [
    "print('Precision: %.3f' % precision_score(y_true=y_test, y_pred=svm_rbf_yy_pred))\n",
    "print('Recall: %.3f' % recall_score(y_true=y_test, y_pred=svm_rbf_yy_pred))\n",
    "print('F1: %.3f' % f1_score(y_true=y_test, y_pred=svm_rbf_yy_pred))"
   ]
  },
  {
   "cell_type": "markdown",
   "metadata": {},
   "source": [
    "# decision tree classifier"
   ]
  },
  {
   "cell_type": "code",
   "execution_count": 24,
   "metadata": {},
   "outputs": [],
   "source": [
    "from sklearn.tree import DecisionTreeClassifier"
   ]
  },
  {
   "cell_type": "code",
   "execution_count": 25,
   "metadata": {},
   "outputs": [],
   "source": [
    "# using best parameters from decision tree\n",
    "tree_clf_model = DecisionTreeClassifier(class_weight=None, criterion='gini', max_depth=1,\n",
    "           max_features=None, max_leaf_nodes=None,\n",
    "            min_impurity_decrease=0.0, min_impurity_split=None,\n",
    "            min_samples_leaf=1, min_samples_split=2,\n",
    "            min_weight_fraction_leaf=0.0, presort=False, random_state=1,\n",
    "            splitter='best')"
   ]
  },
  {
   "cell_type": "code",
   "execution_count": 26,
   "metadata": {},
   "outputs": [
    {
     "name": "stdout",
     "output_type": "stream",
     "text": [
      "tree_clf_scores:  [0.975 0.95  0.975 0.975 1.    1.    0.9   0.95  1.    0.9  ]\n",
      "Mean score:  0.9625\n",
      "Std deviation:  0.03579455265819088\n"
     ]
    }
   ],
   "source": [
    "tree_clf_scores = cross_val_score(tree_clf_model, X_train_std, y_train, cv = 10)\n",
    "print(\"tree_clf_scores: \", tree_clf_scores)\n",
    "print(\"Mean score: \", tree_clf_scores.mean())\n",
    "print(\"Std deviation: \", tree_clf_scores.std())"
   ]
  },
  {
   "cell_type": "code",
   "execution_count": 27,
   "metadata": {},
   "outputs": [
    {
     "data": {
      "text/plain": [
       "0.98"
      ]
     },
     "execution_count": 27,
     "metadata": {},
     "output_type": "execute_result"
    }
   ],
   "source": [
    "tree_clf_model.fit(X_train_std, y_train)\n",
    "tree_clf_score = tree_clf_model.score(X_test_std, y_test)\n",
    "tree_clf_score"
   ]
  },
  {
   "cell_type": "code",
   "execution_count": 28,
   "metadata": {},
   "outputs": [],
   "source": [
    "tree_clf_yy_pred = tree_clf_model.predict(X_test_std)"
   ]
  },
  {
   "cell_type": "code",
   "execution_count": 29,
   "metadata": {},
   "outputs": [
    {
     "name": "stdout",
     "output_type": "stream",
     "text": [
      "[[48  2]\n",
      " [ 0 50]]\n"
     ]
    }
   ],
   "source": [
    "tree_clf_model_confMatrix = confusion_matrix(y_true=y_test, y_pred=tree_clf_yy_pred)\n",
    "print(tree_clf_model_confMatrix)"
   ]
  },
  {
   "cell_type": "code",
   "execution_count": 30,
   "metadata": {},
   "outputs": [
    {
     "name": "stdout",
     "output_type": "stream",
     "text": [
      "Precision: 0.962\n",
      "Recall: 1.000\n",
      "F1: 0.980\n"
     ]
    }
   ],
   "source": [
    "print('Precision: %.3f' % precision_score(y_true=y_test, y_pred=tree_clf_yy_pred))\n",
    "print('Recall: %.3f' % recall_score(y_true=y_test, y_pred=tree_clf_yy_pred))\n",
    "print('F1: %.3f' % f1_score(y_true=y_test, y_pred=tree_clf_yy_pred))"
   ]
  },
  {
   "cell_type": "markdown",
   "metadata": {},
   "source": [
    "# ada boost classification"
   ]
  },
  {
   "cell_type": "code",
   "execution_count": 31,
   "metadata": {},
   "outputs": [],
   "source": [
    "from sklearn.ensemble import AdaBoostClassifier"
   ]
  },
  {
   "cell_type": "code",
   "execution_count": 32,
   "metadata": {},
   "outputs": [],
   "source": [
    "# using best params from ada boost model\n",
    "ada_boost_clf_model = AdaBoostClassifier(algorithm='SAMME.R',\n",
    "          base_estimator=DecisionTreeClassifier(class_weight=None, criterion='gini', max_depth=2,\n",
    "            max_features=None, max_leaf_nodes=None,\n",
    "            min_impurity_decrease=0.0, min_impurity_split=None,\n",
    "            min_samples_leaf=1, min_samples_split=2,\n",
    "            min_weight_fraction_leaf=0.0, presort=False, random_state=42,\n",
    "            splitter='best'),\n",
    "          learning_rate=0.6, n_estimators=21, random_state=42)"
   ]
  },
  {
   "cell_type": "code",
   "execution_count": 33,
   "metadata": {},
   "outputs": [
    {
     "name": "stdout",
     "output_type": "stream",
     "text": [
      "ada_boost_clf_score: [0.95  0.9   0.95  0.925 1.    0.95  0.9   0.925 1.    0.9  ]\n",
      "mean score: 0.9400000000000001\n",
      "standard deviation: 0.035707142142714234\n"
     ]
    }
   ],
   "source": [
    "ada_boost_clf_score = cross_val_score(ada_boost_clf_model,X_train_std,y_train,cv = 10)\n",
    "print(\"ada_boost_clf_score:\",ada_boost_clf_score)\n",
    "print(\"mean score:\",ada_boost_clf_score.mean())\n",
    "print(\"standard deviation:\",ada_boost_clf_score.std())"
   ]
  },
  {
   "cell_type": "code",
   "execution_count": 34,
   "metadata": {},
   "outputs": [
    {
     "data": {
      "text/plain": [
       "0.97"
      ]
     },
     "execution_count": 34,
     "metadata": {},
     "output_type": "execute_result"
    }
   ],
   "source": [
    "ada_boost_clf_model.fit(X_train_std,y_train)\n",
    "ada_boost_clf_score = ada_boost_clf_model.score(X_test_std,y_test)\n",
    "ada_boost_clf_score"
   ]
  },
  {
   "cell_type": "code",
   "execution_count": 35,
   "metadata": {},
   "outputs": [],
   "source": [
    "ada_boost_clf_yy_pred = ada_boost_clf_model.predict(X_test_std)"
   ]
  },
  {
   "cell_type": "code",
   "execution_count": 44,
   "metadata": {},
   "outputs": [
    {
     "name": "stdout",
     "output_type": "stream",
     "text": [
      "[[49  1]\n",
      " [ 2 48]]\n"
     ]
    }
   ],
   "source": [
    "ada_boost_clf_model_confMatrix = confusion_matrix(y_true = y_test,y_pred = ada_boost_clf_yy_pred)\n",
    "print(ada_boost_clf_model_confMatrix)"
   ]
  },
  {
   "cell_type": "code",
   "execution_count": 38,
   "metadata": {},
   "outputs": [
    {
     "name": "stdout",
     "output_type": "stream",
     "text": [
      "Precision: 0.980\n",
      "Recall: 0.960\n",
      "F1: 0.970\n"
     ]
    }
   ],
   "source": [
    "print('Precision: %.3f' % precision_score(y_true=y_test, y_pred=ada_boost_clf_yy_pred))\n",
    "print('Recall: %.3f' % recall_score(y_true=y_test, y_pred=ada_boost_clf_yy_pred))\n",
    "print('F1: %.3f' % f1_score(y_true=y_test, y_pred=ada_boost_clf_yy_pred))"
   ]
  },
  {
   "cell_type": "markdown",
   "metadata": {},
   "source": [
    "# gradient boosting classification "
   ]
  },
  {
   "cell_type": "code",
   "execution_count": 39,
   "metadata": {},
   "outputs": [],
   "source": [
    "from sklearn.ensemble import GradientBoostingClassifier"
   ]
  },
  {
   "cell_type": "code",
   "execution_count": 40,
   "metadata": {},
   "outputs": [],
   "source": [
    "grad_boost_model = GradientBoostingClassifier(criterion='friedman_mse', init=None,\n",
    "              learning_rate=0.1, loss='deviance', max_depth=3,\n",
    "              max_features=None, max_leaf_nodes=None,\n",
    "              min_impurity_decrease=0.0, min_impurity_split=None,\n",
    "              min_samples_leaf=1, min_samples_split=2,\n",
    "              min_weight_fraction_leaf=0.0, n_estimators=1,\n",
    "              n_iter_no_change=None, presort='auto', random_state=42,\n",
    "              subsample=1.0, tol=0.0001, validation_fraction=0.1,\n",
    "              verbose=0, warm_start=False)"
   ]
  },
  {
   "cell_type": "code",
   "execution_count": 41,
   "metadata": {},
   "outputs": [
    {
     "name": "stdout",
     "output_type": "stream",
     "text": [
      "grad_boost_scores: [0.975 0.95  0.975 1.    1.    0.975 0.925 0.95  1.    0.925]\n",
      "grad_boost_scores_mean: 0.9675\n",
      "grad_boost_scores_std: 0.027499999999999986\n"
     ]
    }
   ],
   "source": [
    "grad_boost_scores = cross_val_score(grad_boost_model,X_train_std,y_train,cv =10)\n",
    "print(\"grad_boost_scores:\",grad_boost_scores)\n",
    "print(\"grad_boost_scores_mean:\",grad_boost_scores.mean())\n",
    "print(\"grad_boost_scores_std:\",grad_boost_scores.std())"
   ]
  },
  {
   "cell_type": "code",
   "execution_count": 42,
   "metadata": {},
   "outputs": [
    {
     "name": "stdout",
     "output_type": "stream",
     "text": [
      "0.99\n"
     ]
    }
   ],
   "source": [
    "grad_boost_model.fit(X_train_std,y_train)\n",
    "grad_boost_clf_score = grad_boost_model.score(X_test_std,y_test)\n",
    "print(grad_boost_clf_score)"
   ]
  },
  {
   "cell_type": "code",
   "execution_count": 43,
   "metadata": {},
   "outputs": [],
   "source": [
    "grad_boost_yy_pred = grad_boost_model.predict(X_test_std)"
   ]
  },
  {
   "cell_type": "code",
   "execution_count": 45,
   "metadata": {},
   "outputs": [
    {
     "name": "stdout",
     "output_type": "stream",
     "text": [
      "[[49  1]\n",
      " [ 0 50]]\n"
     ]
    }
   ],
   "source": [
    "grad_boost_confMatrix = confusion_matrix(y_true = y_test,y_pred = grad_boost_yy_pred)\n",
    "print(grad_boost_confMatrix)"
   ]
  },
  {
   "cell_type": "code",
   "execution_count": 46,
   "metadata": {},
   "outputs": [
    {
     "name": "stdout",
     "output_type": "stream",
     "text": [
      "Precision: 0.980\n",
      "Recall: 1.000\n",
      "F1: 0.990\n"
     ]
    }
   ],
   "source": [
    "print('Precision: %.3f' % precision_score(y_true=y_test, y_pred=grad_boost_yy_pred))\n",
    "print('Recall: %.3f' % recall_score(y_true=y_test, y_pred=grad_boost_yy_pred))\n",
    "print('F1: %.3f' % f1_score(y_true=y_test, y_pred=grad_boost_yy_pred))"
   ]
  },
  {
   "cell_type": "markdown",
   "metadata": {},
   "source": [
    "# Random forest classification"
   ]
  },
  {
   "cell_type": "code",
   "execution_count": 47,
   "metadata": {},
   "outputs": [],
   "source": [
    "from sklearn.ensemble import RandomForestClassifier"
   ]
  },
  {
   "cell_type": "code",
   "execution_count": 48,
   "metadata": {},
   "outputs": [],
   "source": [
    "rand_forest_model = RandomForestClassifier(bootstrap=True, class_weight=None, criterion='gini',\n",
    "            max_depth=None, max_features='auto', max_leaf_nodes=2,\n",
    "            min_impurity_decrease=0.0, min_impurity_split=None,\n",
    "            min_samples_leaf=1, min_samples_split=2,\n",
    "            min_weight_fraction_leaf=0.0, n_estimators=30, n_jobs=None,\n",
    "            oob_score=False, random_state=None, verbose=0,\n",
    "            warm_start=False)"
   ]
  },
  {
   "cell_type": "code",
   "execution_count": 49,
   "metadata": {},
   "outputs": [
    {
     "name": "stdout",
     "output_type": "stream",
     "text": [
      "rand_forest_scores: [0.975 0.95  0.975 1.    1.    1.    0.9   0.95  0.975 0.9  ]\n",
      "rand_forest_scores_mean: 0.9625\n",
      "rand_forest_scores_std: 0.03579455265819088\n"
     ]
    }
   ],
   "source": [
    "rand_forest_scores = cross_val_score(rand_forest_model,X_train_std,y_train,cv = 10)\n",
    "print(\"rand_forest_scores:\",rand_forest_scores)\n",
    "print(\"rand_forest_scores_mean:\",rand_forest_scores.mean())\n",
    "print(\"rand_forest_scores_std:\",rand_forest_scores.std())"
   ]
  },
  {
   "cell_type": "code",
   "execution_count": 50,
   "metadata": {},
   "outputs": [
    {
     "name": "stdout",
     "output_type": "stream",
     "text": [
      "0.99\n"
     ]
    }
   ],
   "source": [
    "rand_forest_model.fit(X_train_std,y_train)\n",
    "rand_forest_score = rand_forest_model.score(X_test_std,y_test)\n",
    "print(rand_forest_score)"
   ]
  },
  {
   "cell_type": "code",
   "execution_count": 51,
   "metadata": {},
   "outputs": [],
   "source": [
    "rand_forest_yy_pred = rand_forest_model.predict(X_test_std)"
   ]
  },
  {
   "cell_type": "code",
   "execution_count": 52,
   "metadata": {},
   "outputs": [
    {
     "name": "stdout",
     "output_type": "stream",
     "text": [
      "[[49  1]\n",
      " [ 0 50]]\n"
     ]
    }
   ],
   "source": [
    "rand_forest_confMatrix = confusion_matrix(y_true = y_test,y_pred = rand_forest_yy_pred)\n",
    "print(rand_forest_confMatrix)"
   ]
  },
  {
   "cell_type": "code",
   "execution_count": 53,
   "metadata": {},
   "outputs": [
    {
     "name": "stdout",
     "output_type": "stream",
     "text": [
      "Precision: 0.980\n",
      "Recall: 1.000\n",
      "F1: 0.990\n"
     ]
    }
   ],
   "source": [
    "print('Precision: %.3f' % precision_score(y_true=y_test, y_pred=rand_forest_yy_pred))\n",
    "print('Recall: %.3f' % recall_score(y_true=y_test, y_pred=rand_forest_yy_pred))\n",
    "print('F1: %.3f' % f1_score(y_true=y_test, y_pred=rand_forest_yy_pred))"
   ]
  },
  {
   "cell_type": "markdown",
   "metadata": {},
   "source": [
    "# plotting of classification scores"
   ]
  },
  {
   "cell_type": "code",
   "execution_count": 54,
   "metadata": {},
   "outputs": [],
   "source": [
    "import matplotlib.pyplot as plt\n",
    "%matplotlib inline"
   ]
  },
  {
   "cell_type": "code",
   "execution_count": 58,
   "metadata": {},
   "outputs": [
    {
     "data": {
      "image/png": "[encoded data removed]",
      "text/plain": [
       "<Figure size 432x288 with 1 Axes>"
      ]
     },
     "metadata": {
      "needs_background": "light"
     },
     "output_type": "display_data"
    }
   ],
   "source": [
    "x_plot = range(7)\n",
    "y_plot = [log_reg_score,svm_linear_score,svm_rbf_score,tree_clf_score,ada_boost_clf_score,grad_boost_clf_score,rand_forest_score]\n",
    "x_label = [\"logistic_regression\",\"svm_linear\",\"svm_rbf\",\"decision_tree\",\"ada_boost\",\"gradient_boost\",\"random_forest\"]\n",
    "#plt.bar(x_label[0],y_plot[0],width = 0.5)\n",
    "#plt.bar(x_label[1],y_plot[1],width = 0.5)\n",
    "plt.xticks(x_plot,x_label,rotation = 90,color = \"black\")\n",
    "#plt.bar(x_plot,y_plot,width = 0.4)\n",
    "for i in range(7):\n",
    "    plt.bar(x_plot[i],y_plot[i],width = 0.4)\n",
    "\n",
    "for j in range(len(x_plot)):\n",
    "    plt.text(x = x_plot[j]-.10,y = y_plot[j]+0.03,s = \"%.3f\" %(y_plot[j]),size = 10)\n",
    "    \n",
    "    \n",
    "plt.ylabel(\"score\")\n",
    "plt.xlabel(\"classification models\")\n",
    "plt.ylim([0,1.2]) \n",
    "plt.title(\"score performance\")\n",
    "plt.show()"
   ]
  },
  {
   "cell_type": "code",
   "execution_count": null,
   "metadata": {},
   "outputs": [],
   "source": []
  }
 ],
 "metadata": {
  "kernelspec": {
   "display_name": "Python 3",
   "language": "python",
   "name": "python3"
  },
  "language_info": {
   "codemirror_mode": {
    "name": "ipython",
    "version": 3
   },
   "file_extension": ".py",
   "mimetype": "text/x-python",
   "name": "python",
   "nbconvert_exporter": "python",
   "pygments_lexer": "ipython3",
   "version": "3.6.7"
  }
 },
 "nbformat": 4,
 "nbformat_minor": 2
}
