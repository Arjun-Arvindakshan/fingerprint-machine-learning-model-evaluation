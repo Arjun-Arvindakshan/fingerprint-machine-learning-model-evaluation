{
 "cells": [
  {
   "cell_type": "code",
   "execution_count": 0,
   "metadata": {
    "colab": {},
    "colab_type": "code",
    "id": "SMyxHeJB5wKS"
   },
   "outputs": [],
   "source": [
    "# from google.colab import drive\n",
    "# drive.mount('/content/gdrive')"
   ]
  },
  {
   "cell_type": "code",
   "execution_count": 2,
   "metadata": {
    "colab": {
     "base_uri": "https://localhost:8080/",
     "height": 34
    },
    "colab_type": "code",
    "id": "y2LhpYlj56WX",
    "outputId": "d9066873-7e5c-4888-c818-de4dda5fc0a6"
   },
   "outputs": [
    {
     "name": "stdout",
     "output_type": "stream",
     "text": [
      "\u001b[0m\u001b[01;34mgdrive\u001b[0m  \u001b[01;34msample_data\u001b[0m\n"
     ]
    }
   ],
   "source": [
    "!ls --color"
   ]
  },
  {
   "cell_type": "code",
   "execution_count": 3,
   "metadata": {
    "colab": {
     "base_uri": "https://localhost:8080/",
     "height": 34
    },
    "colab_type": "code",
    "id": "3NwECt096WYg",
    "outputId": "3065b998-9ba8-4d5e-858d-27efd099fcea"
   },
   "outputs": [
    {
     "name": "stdout",
     "output_type": "stream",
     "text": [
      "outdoor_sample_20\n"
     ]
    }
   ],
   "source": [
    "!ls gdrive/My\\ Drive/ML_Data"
   ]
  },
  {
   "cell_type": "code",
   "execution_count": 4,
   "metadata": {
    "colab": {
     "base_uri": "https://localhost:8080/",
     "height": 34
    },
    "colab_type": "code",
    "id": "gdCxo_j66pe9",
    "outputId": "6dfae1af-a07e-4803-a770-87a4c02f2422"
   },
   "outputs": [
    {
     "name": "stdout",
     "output_type": "stream",
     "text": [
      "/content/gdrive/My Drive/ML_Data\n"
     ]
    }
   ],
   "source": [
    "cd gdrive/My\\ Drive/ML_Data"
   ]
  },
  {
   "cell_type": "code",
   "execution_count": 5,
   "metadata": {
    "colab": {
     "base_uri": "https://localhost:8080/",
     "height": 34
    },
    "colab_type": "code",
    "id": "UErN56DH630g",
    "outputId": "b9b82882-f712-4fcd-f29c-447f6d9bf760"
   },
   "outputs": [
    {
     "name": "stdout",
     "output_type": "stream",
     "text": [
      "/content/gdrive/My Drive/ML_Data/outdoor_sample_20\n"
     ]
    }
   ],
   "source": [
    "cd outdoor_sample_20/ "
   ]
  },
  {
   "cell_type": "code",
   "execution_count": 6,
   "metadata": {
    "colab": {
     "base_uri": "https://localhost:8080/",
     "height": 935
    },
    "colab_type": "code",
    "id": "i8fCFp6w6-q5",
    "outputId": "8c9bbf04-460d-4991-b0df-6299083d313c"
   },
   "outputs": [
    {
     "name": "stdout",
     "output_type": "stream",
     "text": [
      "coast_arnat59.jpg    highway_art238.jpg       opencountry_cdmc722.jpg\n",
      "coast_art1130.jpg    highway_art250.jpg       opencountry_cdmc753.jpg\n",
      "coast_art294.jpg     highway_art252.jpg       opencountry_cdmc795.jpg\n",
      "coast_art487.jpg     highway_art254.jpg       opencountry_cdmc935.jpg\n",
      "coast_bea10.jpg      highway_art255.jpg       opencountry_cdmc937.jpg\n",
      "coast_bea14.jpg      highway_art328.jpg       opencountry_des16.jpg\n",
      "coast_bea1.jpg\t     insidecity_a0004.jpg     opencountry_fie10.jpg\n",
      "coast_bea20.jpg      insidecity_a0010.jpg     opencountry_fie12.jpg\n",
      "coast_bea24.jpg      insidecity_a111017.jpg   opencountry_fie5.jpg\n",
      "coast_bea26.jpg      insidecity_a129035.jpg   opencountry_fie6.jpg\n",
      "coast_bea27.jpg      insidecity_a129048.jpg   opencountry_fie7.jpg\n",
      "coast_bea29.jpg      insidecity_a129053.jpg   opencountry_fie8.jpg\n",
      "coast_bea2.jpg\t     insidecity_a140032.jpg   street_a205062.jpg\n",
      "coast_bea30.jpg      insidecity_a212024.jpg   street_a232022.jpg\n",
      "coast_bea33.jpg      insidecity_a212025.jpg   street_a281067.jpg\n",
      "coast_bea38.jpg      insidecity_a212052.jpg   street_a714064.jpg\n",
      "coast_bea3.jpg\t     insidecity_a223049.jpg   street_a79094.jpg\n",
      "coast_bea4.jpg\t     insidecity_a248032.jpg   street_a805038.jpg\n",
      "coast_bea5.jpg\t     insidecity_a248045.jpg   street_art256.jpg\n",
      "coast_bea9.jpg\t     insidecity_a379017.jpg   street_art379.jpg\n",
      "forest_art114.jpg    insidecity_a385019.jpg   street_art475.jpg\n",
      "forest_bost100.jpg   insidecity_a385047.jpg   street_art511.jpg\n",
      "forest_bost101.jpg   insidecity_a385073.jpg   street_art546.jpg\n",
      "forest_bost102.jpg   insidecity_a385075.jpg   street_art549.jpg\n",
      "forest_bost103.jpg   insidecity_a48009.jpg    street_art757.jpg\n",
      "forest_bost190.jpg   insidecity_a79054.jpg    street_art758.jpg\n",
      "forest_bost98.jpg    mountain_art1131.jpg     street_art759.jpg\n",
      "forest_cdmc101.jpg   mountain_art1132.jpg     street_art760.jpg\n",
      "forest_cdmc12.jpg    mountain_cdmc181.jpg     street_art761.jpg\n",
      "forest_cdmc271.jpg   mountain_cdmc184.jpg     street_art762.jpg\n",
      "forest_cdmc277.jpg   mountain_cdmc187.jpg     street_art764.jpg\n",
      "forest_cdmc278.jpg   mountain_gre242.jpg      street_art766.jpg\n",
      "forest_cdmc280.jpg   mountain_land10.jpg      tallbuilding_a212017.jpg\n",
      "forest_cdmc281.jpg   mountain_land11.jpg      tallbuilding_a212018.jpg\n",
      "forest_cdmc282.jpg   mountain_land130.jpg     tallbuilding_a212026.jpg\n",
      "forest_cdmc283.jpg   mountain_land131.jpg     tallbuilding_a212033.jpg\n",
      "forest_cdmc284.jpg   mountain_land132.jpg     tallbuilding_a212044.jpg\n",
      "forest_cdmc290.jpg   mountain_land13.jpg      tallbuilding_a212055.jpg\n",
      "forest_cdmc291.jpg   mountain_land142.jpg     tallbuilding_a223039.jpg\n",
      "forest_cdmc292.jpg   mountain_land143.jpg     tallbuilding_a244009.jpg\n",
      "highway_a836030.jpg  mountain_land145.jpg     tallbuilding_a244030.jpg\n",
      "highway_a866041.jpg  mountain_land150.jpg     tallbuilding_a244040.jpg\n",
      "highway_a866042.jpg  mountain_land153.jpg     tallbuilding_a244043.jpg\n",
      "highway_a866047.jpg  mountain_land15.jpg      tallbuilding_a244046.jpg\n",
      "highway_a866048.jpg  mountain_land161.jpg     tallbuilding_a244068.jpg\n",
      "highway_art1134.jpg  mountain_land165.jpg     tallbuilding_a244069.jpg\n",
      "highway_art1204.jpg  opencountry_art582.jpg   tallbuilding_a244081.jpg\n",
      "highway_art1673.jpg  opencountry_cdmc109.jpg  tallbuilding_a248018.jpg\n",
      "highway_art1674.jpg  opencountry_cdmc276.jpg  tallbuilding_a279032.jpg\n",
      "highway_art1679.jpg  opencountry_cdmc354.jpg  tallbuilding_a279033.jpg\n",
      "highway_art1682.jpg  opencountry_cdmc518.jpg  tallbuilding_a372007.jpg\n",
      "highway_art1693.jpg  opencountry_cdmc710.jpg  tallbuilding_a438011.jpg\n",
      "highway_art1696.jpg  opencountry_cdmc712.jpg\n",
      "highway_art237.jpg   opencountry_cdmc713.jpg\n"
     ]
    }
   ],
   "source": [
    "!ls"
   ]
  },
  {
   "cell_type": "code",
   "execution_count": 7,
   "metadata": {
    "colab": {
     "base_uri": "https://localhost:8080/",
     "height": 1000
    },
    "colab_type": "code",
    "id": "pxmjxQB87GS4",
    "outputId": "786efd3a-b9c9-4d8a-d77a-5fe8c0a29553"
   },
   "outputs": [
    {
     "data": {
      "text/plain": [
       "['/content/gdrive/My Drive/ML_Data/outdoor_sample_20/opencountry_cdmc109.jpg',\n",
       " '/content/gdrive/My Drive/ML_Data/outdoor_sample_20/forest_bost102.jpg',\n",
       " '/content/gdrive/My Drive/ML_Data/outdoor_sample_20/insidecity_a212025.jpg',\n",
       " '/content/gdrive/My Drive/ML_Data/outdoor_sample_20/highway_art1693.jpg',\n",
       " '/content/gdrive/My Drive/ML_Data/outdoor_sample_20/highway_art250.jpg',\n",
       " '/content/gdrive/My Drive/ML_Data/outdoor_sample_20/highway_a836030.jpg',\n",
       " '/content/gdrive/My Drive/ML_Data/outdoor_sample_20/mountain_cdmc184.jpg',\n",
       " '/content/gdrive/My Drive/ML_Data/outdoor_sample_20/coast_bea30.jpg',\n",
       " '/content/gdrive/My Drive/ML_Data/outdoor_sample_20/tallbuilding_a372007.jpg',\n",
       " '/content/gdrive/My Drive/ML_Data/outdoor_sample_20/mountain_cdmc181.jpg',\n",
       " '/content/gdrive/My Drive/ML_Data/outdoor_sample_20/street_a79094.jpg',\n",
       " '/content/gdrive/My Drive/ML_Data/outdoor_sample_20/opencountry_cdmc518.jpg',\n",
       " '/content/gdrive/My Drive/ML_Data/outdoor_sample_20/mountain_art1131.jpg',\n",
       " '/content/gdrive/My Drive/ML_Data/outdoor_sample_20/street_art764.jpg',\n",
       " '/content/gdrive/My Drive/ML_Data/outdoor_sample_20/opencountry_des16.jpg',\n",
       " '/content/gdrive/My Drive/ML_Data/outdoor_sample_20/coast_bea29.jpg',\n",
       " '/content/gdrive/My Drive/ML_Data/outdoor_sample_20/tallbuilding_a279033.jpg',\n",
       " '/content/gdrive/My Drive/ML_Data/outdoor_sample_20/insidecity_a212024.jpg',\n",
       " '/content/gdrive/My Drive/ML_Data/outdoor_sample_20/forest_cdmc281.jpg',\n",
       " '/content/gdrive/My Drive/ML_Data/outdoor_sample_20/highway_a866048.jpg',\n",
       " '/content/gdrive/My Drive/ML_Data/outdoor_sample_20/tallbuilding_a212033.jpg',\n",
       " '/content/gdrive/My Drive/ML_Data/outdoor_sample_20/insidecity_a79054.jpg',\n",
       " '/content/gdrive/My Drive/ML_Data/outdoor_sample_20/insidecity_a129053.jpg',\n",
       " '/content/gdrive/My Drive/ML_Data/outdoor_sample_20/street_art549.jpg',\n",
       " '/content/gdrive/My Drive/ML_Data/outdoor_sample_20/insidecity_a385019.jpg',\n",
       " '/content/gdrive/My Drive/ML_Data/outdoor_sample_20/tallbuilding_a244069.jpg',\n",
       " '/content/gdrive/My Drive/ML_Data/outdoor_sample_20/tallbuilding_a244030.jpg',\n",
       " '/content/gdrive/My Drive/ML_Data/outdoor_sample_20/opencountry_cdmc710.jpg',\n",
       " '/content/gdrive/My Drive/ML_Data/outdoor_sample_20/mountain_land130.jpg',\n",
       " '/content/gdrive/My Drive/ML_Data/outdoor_sample_20/tallbuilding_a212055.jpg',\n",
       " '/content/gdrive/My Drive/ML_Data/outdoor_sample_20/forest_bost100.jpg',\n",
       " '/content/gdrive/My Drive/ML_Data/outdoor_sample_20/insidecity_a0004.jpg',\n",
       " '/content/gdrive/My Drive/ML_Data/outdoor_sample_20/highway_a866047.jpg',\n",
       " '/content/gdrive/My Drive/ML_Data/outdoor_sample_20/mountain_land143.jpg',\n",
       " '/content/gdrive/My Drive/ML_Data/outdoor_sample_20/forest_bost98.jpg',\n",
       " '/content/gdrive/My Drive/ML_Data/outdoor_sample_20/mountain_land132.jpg',\n",
       " '/content/gdrive/My Drive/ML_Data/outdoor_sample_20/street_art511.jpg',\n",
       " '/content/gdrive/My Drive/ML_Data/outdoor_sample_20/street_art256.jpg',\n",
       " '/content/gdrive/My Drive/ML_Data/outdoor_sample_20/opencountry_cdmc722.jpg',\n",
       " '/content/gdrive/My Drive/ML_Data/outdoor_sample_20/mountain_land153.jpg',\n",
       " '/content/gdrive/My Drive/ML_Data/outdoor_sample_20/mountain_cdmc187.jpg',\n",
       " '/content/gdrive/My Drive/ML_Data/outdoor_sample_20/street_art762.jpg',\n",
       " '/content/gdrive/My Drive/ML_Data/outdoor_sample_20/insidecity_a111017.jpg',\n",
       " '/content/gdrive/My Drive/ML_Data/outdoor_sample_20/tallbuilding_a244040.jpg',\n",
       " '/content/gdrive/My Drive/ML_Data/outdoor_sample_20/highway_art1673.jpg',\n",
       " '/content/gdrive/My Drive/ML_Data/outdoor_sample_20/street_a714064.jpg',\n",
       " '/content/gdrive/My Drive/ML_Data/outdoor_sample_20/highway_art237.jpg',\n",
       " '/content/gdrive/My Drive/ML_Data/outdoor_sample_20/forest_art114.jpg',\n",
       " '/content/gdrive/My Drive/ML_Data/outdoor_sample_20/mountain_land11.jpg',\n",
       " '/content/gdrive/My Drive/ML_Data/outdoor_sample_20/street_art766.jpg',\n",
       " '/content/gdrive/My Drive/ML_Data/outdoor_sample_20/coast_bea33.jpg',\n",
       " '/content/gdrive/My Drive/ML_Data/outdoor_sample_20/highway_art1204.jpg',\n",
       " '/content/gdrive/My Drive/ML_Data/outdoor_sample_20/tallbuilding_a244009.jpg',\n",
       " '/content/gdrive/My Drive/ML_Data/outdoor_sample_20/mountain_art1132.jpg',\n",
       " '/content/gdrive/My Drive/ML_Data/outdoor_sample_20/street_art379.jpg',\n",
       " '/content/gdrive/My Drive/ML_Data/outdoor_sample_20/tallbuilding_a244043.jpg',\n",
       " '/content/gdrive/My Drive/ML_Data/outdoor_sample_20/highway_art328.jpg',\n",
       " '/content/gdrive/My Drive/ML_Data/outdoor_sample_20/street_art758.jpg',\n",
       " '/content/gdrive/My Drive/ML_Data/outdoor_sample_20/coast_bea26.jpg',\n",
       " '/content/gdrive/My Drive/ML_Data/outdoor_sample_20/street_art757.jpg',\n",
       " '/content/gdrive/My Drive/ML_Data/outdoor_sample_20/tallbuilding_a223039.jpg',\n",
       " '/content/gdrive/My Drive/ML_Data/outdoor_sample_20/forest_cdmc278.jpg',\n",
       " '/content/gdrive/My Drive/ML_Data/outdoor_sample_20/opencountry_cdmc354.jpg',\n",
       " '/content/gdrive/My Drive/ML_Data/outdoor_sample_20/opencountry_fie10.jpg',\n",
       " '/content/gdrive/My Drive/ML_Data/outdoor_sample_20/tallbuilding_a212018.jpg',\n",
       " '/content/gdrive/My Drive/ML_Data/outdoor_sample_20/highway_art1134.jpg',\n",
       " '/content/gdrive/My Drive/ML_Data/outdoor_sample_20/coast_art487.jpg',\n",
       " '/content/gdrive/My Drive/ML_Data/outdoor_sample_20/insidecity_a0010.jpg',\n",
       " '/content/gdrive/My Drive/ML_Data/outdoor_sample_20/mountain_land165.jpg',\n",
       " '/content/gdrive/My Drive/ML_Data/outdoor_sample_20/tallbuilding_a244068.jpg',\n",
       " '/content/gdrive/My Drive/ML_Data/outdoor_sample_20/forest_cdmc290.jpg',\n",
       " '/content/gdrive/My Drive/ML_Data/outdoor_sample_20/insidecity_a385075.jpg',\n",
       " '/content/gdrive/My Drive/ML_Data/outdoor_sample_20/tallbuilding_a212026.jpg',\n",
       " '/content/gdrive/My Drive/ML_Data/outdoor_sample_20/mountain_land161.jpg',\n",
       " '/content/gdrive/My Drive/ML_Data/outdoor_sample_20/tallbuilding_a438011.jpg',\n",
       " '/content/gdrive/My Drive/ML_Data/outdoor_sample_20/forest_cdmc277.jpg',\n",
       " '/content/gdrive/My Drive/ML_Data/outdoor_sample_20/coast_bea38.jpg',\n",
       " '/content/gdrive/My Drive/ML_Data/outdoor_sample_20/opencountry_fie8.jpg',\n",
       " '/content/gdrive/My Drive/ML_Data/outdoor_sample_20/insidecity_a248032.jpg',\n",
       " '/content/gdrive/My Drive/ML_Data/outdoor_sample_20/coast_bea9.jpg',\n",
       " '/content/gdrive/My Drive/ML_Data/outdoor_sample_20/street_a281067.jpg',\n",
       " '/content/gdrive/My Drive/ML_Data/outdoor_sample_20/street_art475.jpg',\n",
       " '/content/gdrive/My Drive/ML_Data/outdoor_sample_20/street_art759.jpg',\n",
       " '/content/gdrive/My Drive/ML_Data/outdoor_sample_20/street_a205062.jpg',\n",
       " '/content/gdrive/My Drive/ML_Data/outdoor_sample_20/highway_art255.jpg',\n",
       " '/content/gdrive/My Drive/ML_Data/outdoor_sample_20/coast_art1130.jpg',\n",
       " '/content/gdrive/My Drive/ML_Data/outdoor_sample_20/forest_cdmc271.jpg',\n",
       " '/content/gdrive/My Drive/ML_Data/outdoor_sample_20/tallbuilding_a279032.jpg',\n",
       " '/content/gdrive/My Drive/ML_Data/outdoor_sample_20/insidecity_a212052.jpg',\n",
       " '/content/gdrive/My Drive/ML_Data/outdoor_sample_20/coast_arnat59.jpg',\n",
       " '/content/gdrive/My Drive/ML_Data/outdoor_sample_20/insidecity_a385073.jpg',\n",
       " '/content/gdrive/My Drive/ML_Data/outdoor_sample_20/forest_cdmc291.jpg',\n",
       " '/content/gdrive/My Drive/ML_Data/outdoor_sample_20/coast_bea10.jpg',\n",
       " '/content/gdrive/My Drive/ML_Data/outdoor_sample_20/forest_cdmc280.jpg',\n",
       " '/content/gdrive/My Drive/ML_Data/outdoor_sample_20/street_art546.jpg',\n",
       " '/content/gdrive/My Drive/ML_Data/outdoor_sample_20/mountain_gre242.jpg',\n",
       " '/content/gdrive/My Drive/ML_Data/outdoor_sample_20/coast_bea27.jpg',\n",
       " '/content/gdrive/My Drive/ML_Data/outdoor_sample_20/tallbuilding_a244081.jpg',\n",
       " '/content/gdrive/My Drive/ML_Data/outdoor_sample_20/forest_cdmc12.jpg',\n",
       " '/content/gdrive/My Drive/ML_Data/outdoor_sample_20/coast_bea24.jpg',\n",
       " '/content/gdrive/My Drive/ML_Data/outdoor_sample_20/opencountry_cdmc935.jpg',\n",
       " '/content/gdrive/My Drive/ML_Data/outdoor_sample_20/insidecity_a129048.jpg',\n",
       " '/content/gdrive/My Drive/ML_Data/outdoor_sample_20/opencountry_fie5.jpg',\n",
       " '/content/gdrive/My Drive/ML_Data/outdoor_sample_20/highway_art1674.jpg',\n",
       " '/content/gdrive/My Drive/ML_Data/outdoor_sample_20/mountain_land131.jpg',\n",
       " '/content/gdrive/My Drive/ML_Data/outdoor_sample_20/opencountry_art582.jpg',\n",
       " '/content/gdrive/My Drive/ML_Data/outdoor_sample_20/opencountry_fie7.jpg',\n",
       " '/content/gdrive/My Drive/ML_Data/outdoor_sample_20/insidecity_a48009.jpg',\n",
       " '/content/gdrive/My Drive/ML_Data/outdoor_sample_20/coast_bea1.jpg',\n",
       " '/content/gdrive/My Drive/ML_Data/outdoor_sample_20/insidecity_a379017.jpg',\n",
       " '/content/gdrive/My Drive/ML_Data/outdoor_sample_20/highway_art238.jpg',\n",
       " '/content/gdrive/My Drive/ML_Data/outdoor_sample_20/coast_bea20.jpg',\n",
       " '/content/gdrive/My Drive/ML_Data/outdoor_sample_20/street_art761.jpg',\n",
       " '/content/gdrive/My Drive/ML_Data/outdoor_sample_20/opencountry_cdmc795.jpg',\n",
       " '/content/gdrive/My Drive/ML_Data/outdoor_sample_20/forest_cdmc101.jpg',\n",
       " '/content/gdrive/My Drive/ML_Data/outdoor_sample_20/insidecity_a248045.jpg',\n",
       " '/content/gdrive/My Drive/ML_Data/outdoor_sample_20/highway_art252.jpg',\n",
       " '/content/gdrive/My Drive/ML_Data/outdoor_sample_20/opencountry_fie6.jpg',\n",
       " '/content/gdrive/My Drive/ML_Data/outdoor_sample_20/forest_cdmc283.jpg',\n",
       " '/content/gdrive/My Drive/ML_Data/outdoor_sample_20/highway_art1679.jpg',\n",
       " '/content/gdrive/My Drive/ML_Data/outdoor_sample_20/tallbuilding_a212017.jpg',\n",
       " '/content/gdrive/My Drive/ML_Data/outdoor_sample_20/tallbuilding_a244046.jpg',\n",
       " '/content/gdrive/My Drive/ML_Data/outdoor_sample_20/highway_art254.jpg',\n",
       " '/content/gdrive/My Drive/ML_Data/outdoor_sample_20/coast_bea14.jpg',\n",
       " '/content/gdrive/My Drive/ML_Data/outdoor_sample_20/mountain_land13.jpg',\n",
       " '/content/gdrive/My Drive/ML_Data/outdoor_sample_20/street_a232022.jpg',\n",
       " '/content/gdrive/My Drive/ML_Data/outdoor_sample_20/insidecity_a140032.jpg',\n",
       " '/content/gdrive/My Drive/ML_Data/outdoor_sample_20/insidecity_a129035.jpg',\n",
       " '/content/gdrive/My Drive/ML_Data/outdoor_sample_20/opencountry_cdmc753.jpg',\n",
       " '/content/gdrive/My Drive/ML_Data/outdoor_sample_20/coast_bea3.jpg',\n",
       " '/content/gdrive/My Drive/ML_Data/outdoor_sample_20/mountain_land15.jpg',\n",
       " '/content/gdrive/My Drive/ML_Data/outdoor_sample_20/opencountry_cdmc713.jpg',\n",
       " '/content/gdrive/My Drive/ML_Data/outdoor_sample_20/street_a805038.jpg',\n",
       " '/content/gdrive/My Drive/ML_Data/outdoor_sample_20/opencountry_fie12.jpg',\n",
       " '/content/gdrive/My Drive/ML_Data/outdoor_sample_20/tallbuilding_a212044.jpg',\n",
       " '/content/gdrive/My Drive/ML_Data/outdoor_sample_20/coast_bea4.jpg',\n",
       " '/content/gdrive/My Drive/ML_Data/outdoor_sample_20/forest_bost190.jpg',\n",
       " '/content/gdrive/My Drive/ML_Data/outdoor_sample_20/highway_a866041.jpg',\n",
       " '/content/gdrive/My Drive/ML_Data/outdoor_sample_20/opencountry_cdmc276.jpg',\n",
       " '/content/gdrive/My Drive/ML_Data/outdoor_sample_20/mountain_land145.jpg',\n",
       " '/content/gdrive/My Drive/ML_Data/outdoor_sample_20/street_art760.jpg',\n",
       " '/content/gdrive/My Drive/ML_Data/outdoor_sample_20/insidecity_a385047.jpg',\n",
       " '/content/gdrive/My Drive/ML_Data/outdoor_sample_20/opencountry_cdmc712.jpg',\n",
       " '/content/gdrive/My Drive/ML_Data/outdoor_sample_20/forest_bost101.jpg',\n",
       " '/content/gdrive/My Drive/ML_Data/outdoor_sample_20/forest_bost103.jpg',\n",
       " '/content/gdrive/My Drive/ML_Data/outdoor_sample_20/highway_a866042.jpg',\n",
       " '/content/gdrive/My Drive/ML_Data/outdoor_sample_20/tallbuilding_a248018.jpg',\n",
       " '/content/gdrive/My Drive/ML_Data/outdoor_sample_20/mountain_land142.jpg',\n",
       " '/content/gdrive/My Drive/ML_Data/outdoor_sample_20/forest_cdmc282.jpg',\n",
       " '/content/gdrive/My Drive/ML_Data/outdoor_sample_20/coast_art294.jpg',\n",
       " '/content/gdrive/My Drive/ML_Data/outdoor_sample_20/mountain_land150.jpg',\n",
       " '/content/gdrive/My Drive/ML_Data/outdoor_sample_20/forest_cdmc284.jpg',\n",
       " '/content/gdrive/My Drive/ML_Data/outdoor_sample_20/opencountry_cdmc937.jpg',\n",
       " '/content/gdrive/My Drive/ML_Data/outdoor_sample_20/highway_art1696.jpg',\n",
       " '/content/gdrive/My Drive/ML_Data/outdoor_sample_20/highway_art1682.jpg',\n",
       " '/content/gdrive/My Drive/ML_Data/outdoor_sample_20/mountain_land10.jpg',\n",
       " '/content/gdrive/My Drive/ML_Data/outdoor_sample_20/insidecity_a223049.jpg',\n",
       " '/content/gdrive/My Drive/ML_Data/outdoor_sample_20/coast_bea5.jpg',\n",
       " '/content/gdrive/My Drive/ML_Data/outdoor_sample_20/forest_cdmc292.jpg',\n",
       " '/content/gdrive/My Drive/ML_Data/outdoor_sample_20/coast_bea2.jpg']"
      ]
     },
     "execution_count": 7,
     "metadata": {
      "tags": []
     },
     "output_type": "execute_result"
    }
   ],
   "source": [
    "import glob\n",
    "from PIL import Image\n",
    "\n",
    "import numpy as np\n",
    "\n",
    "imgList = glob.glob(\"/content/gdrive/My Drive/ML_Data/outdoor_sample_20/*.jpg\")\n",
    "imgList"
   ]
  },
  {
   "cell_type": "code",
   "execution_count": 0,
   "metadata": {
    "colab": {},
    "colab_type": "code",
    "id": "4s_aGAvW7xGB"
   },
   "outputs": [],
   "source": [
    "from imutils import paths\n",
    "import os\n",
    "import numpy as np\n",
    "np.random.seed(42)\n",
    "\n",
    "import matplotlib.pyplot as plt\n",
    "%matplotlib inline"
   ]
  },
  {
   "cell_type": "code",
   "execution_count": 0,
   "metadata": {
    "colab": {},
    "colab_type": "code",
    "id": "34MZYj9P8UhF"
   },
   "outputs": [],
   "source": [
    "n_classes = 8"
   ]
  },
  {
   "cell_type": "code",
   "execution_count": 0,
   "metadata": {
    "colab": {},
    "colab_type": "code",
    "id": "lGqKhoN2A3O4"
   },
   "outputs": [],
   "source": [
    "import tensorflow as tf\n",
    "from tensorflow import keras\n",
    "tf.set_random_seed(42)"
   ]
  },
  {
   "cell_type": "code",
   "execution_count": 0,
   "metadata": {
    "colab": {},
    "colab_type": "code",
    "id": "yjcv9_s-8d5m"
   },
   "outputs": [],
   "source": []
  },
  {
   "cell_type": "code",
   "execution_count": 0,
   "metadata": {
    "colab": {},
    "colab_type": "code",
    "id": "Ph7ZFrCa8gIP"
   },
   "outputs": [],
   "source": [
    "X = []\n",
    "y = []\n",
    "\n",
    "for fName in imgList:\n",
    "    X_i = Image.open(fName)\n",
    "    X_i = np.array(X_i.resize((299,299)))/255.0\n",
    "    X.append(X_i)\n",
    "    eList = fName.split(os.path.sep) #['', 'content', 'gdrive', 'My Drive', 'ML_Data', 'outdoor_sample_20', 'opencountry_cdmc109.jpg']\n",
    "    label = eList[-1].split('_') #['tallbuilding', 'a244040.jpg']\n",
    "#     print(label[0])\n",
    "    y.append(label[0])"
   ]
  },
  {
   "cell_type": "code",
   "execution_count": 12,
   "metadata": {
    "colab": {
     "base_uri": "https://localhost:8080/",
     "height": 34
    },
    "colab_type": "code",
    "id": "Ldj3ST9Y8nUL",
    "outputId": "79211f0c-89cc-47fb-b2f6-648cfb2986e1"
   },
   "outputs": [
    {
     "data": {
      "text/plain": [
       "160"
      ]
     },
     "execution_count": 12,
     "metadata": {
      "tags": []
     },
     "output_type": "execute_result"
    }
   ],
   "source": [
    "len(X)"
   ]
  },
  {
   "cell_type": "code",
   "execution_count": 13,
   "metadata": {
    "colab": {
     "base_uri": "https://localhost:8080/",
     "height": 34
    },
    "colab_type": "code",
    "id": "TZyH-fQ28-r-",
    "outputId": "f7052eb6-fdea-4b1c-9a48-7045fbf9204c"
   },
   "outputs": [
    {
     "data": {
      "text/plain": [
       "160"
      ]
     },
     "execution_count": 13,
     "metadata": {
      "tags": []
     },
     "output_type": "execute_result"
    }
   ],
   "source": [
    "len(y)"
   ]
  },
  {
   "cell_type": "code",
   "execution_count": 14,
   "metadata": {
    "colab": {
     "base_uri": "https://localhost:8080/",
     "height": 153
    },
    "colab_type": "code",
    "id": "Z321bg_z9MQk",
    "outputId": "cf76b3b4-d0cb-4e98-920b-f6ccec58fbe2"
   },
   "outputs": [
    {
     "data": {
      "text/plain": [
       "{'coast',\n",
       " 'forest',\n",
       " 'highway',\n",
       " 'insidecity',\n",
       " 'mountain',\n",
       " 'opencountry',\n",
       " 'street',\n",
       " 'tallbuilding'}"
      ]
     },
     "execution_count": 14,
     "metadata": {
      "tags": []
     },
     "output_type": "execute_result"
    }
   ],
   "source": [
    "set(y)"
   ]
  },
  {
   "cell_type": "code",
   "execution_count": 0,
   "metadata": {
    "colab": {},
    "colab_type": "code",
    "id": "vRVsqIa99S_w"
   },
   "outputs": [],
   "source": [
    "from sklearn.preprocessing import LabelEncoder\n",
    "\n",
    "lEncoder = LabelEncoder()\n",
    "y = lEncoder.fit_transform(y)"
   ]
  },
  {
   "cell_type": "code",
   "execution_count": 16,
   "metadata": {
    "colab": {
     "base_uri": "https://localhost:8080/",
     "height": 34
    },
    "colab_type": "code",
    "id": "_NSeeo1sANmc",
    "outputId": "bf64d2cc-fda4-4b62-ed04-209d366494d8"
   },
   "outputs": [
    {
     "data": {
      "text/plain": [
       "{0, 1, 2, 3, 4, 5, 6, 7}"
      ]
     },
     "execution_count": 16,
     "metadata": {
      "tags": []
     },
     "output_type": "execute_result"
    }
   ],
   "source": [
    "set(y)"
   ]
  },
  {
   "cell_type": "code",
   "execution_count": 17,
   "metadata": {
    "colab": {
     "base_uri": "https://localhost:8080/",
     "height": 51
    },
    "colab_type": "code",
    "id": "051fSwhOAPEZ",
    "outputId": "b6867409-5fc8-44c1-e85a-1b91f1d380be"
   },
   "outputs": [
    {
     "name": "stdout",
     "output_type": "stream",
     "text": [
      "['coast' 'forest' 'highway' 'insidecity' 'mountain' 'opencountry' 'street'\n",
      " 'tallbuilding']\n"
     ]
    }
   ],
   "source": [
    "print(lEncoder.classes_)"
   ]
  },
  {
   "cell_type": "code",
   "execution_count": 0,
   "metadata": {
    "colab": {},
    "colab_type": "code",
    "id": "pHU9aEV8AmQg"
   },
   "outputs": [],
   "source": [
    "X = np.array(X)\n",
    "y = np.array(y)"
   ]
  },
  {
   "cell_type": "code",
   "execution_count": 0,
   "metadata": {
    "colab": {},
    "colab_type": "code",
    "id": "25s7Fl3OARQO"
   },
   "outputs": [],
   "source": [
    "from sklearn.model_selection import train_test_split\n",
    "\n",
    "X_train, X_test, y_train, y_test = train_test_split(\n",
    "    X, y, test_size = 0.2, stratify = y, random_state = 42)"
   ]
  },
  {
   "cell_type": "code",
   "execution_count": 20,
   "metadata": {
    "colab": {
     "base_uri": "https://localhost:8080/",
     "height": 51
    },
    "colab_type": "code",
    "id": "P6vl6PZxAVsv",
    "outputId": "416d9875-592c-4a8f-d483-62bcedc4cb7d"
   },
   "outputs": [
    {
     "name": "stdout",
     "output_type": "stream",
     "text": [
      "X_train_shape: (128, 299, 299, 3)\n",
      "X_test_shape: (32, 299, 299, 3)\n"
     ]
    }
   ],
   "source": [
    "print(\"X_train_shape: {}\".format(X_train.shape))\n",
    "print(\"X_test_shape: {}\".format(X_test.shape))"
   ]
  },
  {
   "cell_type": "code",
   "execution_count": 0,
   "metadata": {
    "colab": {},
    "colab_type": "code",
    "id": "cNJncfkLAX0F"
   },
   "outputs": [],
   "source": [
    "### Transfer learning "
   ]
  },
  {
   "cell_type": "code",
   "execution_count": 22,
   "metadata": {
    "colab": {
     "base_uri": "https://localhost:8080/",
     "height": 105
    },
    "colab_type": "code",
    "id": "nmjoPKoWAsPl",
    "outputId": "a9c824d7-1e2e-45d6-d257-c08d6db711c1"
   },
   "outputs": [
    {
     "name": "stderr",
     "output_type": "stream",
     "text": [
      "WARNING: Logging before flag parsing goes to stderr.\n",
      "W0712 07:20:05.380640 140247599916928 deprecation.py:506] From /usr/local/lib/python3.6/dist-packages/tensorflow/python/ops/init_ops.py:1251: calling VarianceScaling.__init__ (from tensorflow.python.ops.init_ops) with dtype is deprecated and will be removed in a future version.\n",
      "Instructions for updating:\n",
      "Call initializer instance with the dtype argument instead of passing it to the constructor\n"
     ]
    }
   ],
   "source": [
    "base_model = keras.applications.xception.Xception(include_top= False, weights='imagenet')"
   ]
  },
  {
   "cell_type": "code",
   "execution_count": 0,
   "metadata": {
    "colab": {},
    "colab_type": "code",
    "id": "Wc3g1lVUAxjI"
   },
   "outputs": [],
   "source": [
    "for layer in base_model.layers:\n",
    "    layer.trainable = False"
   ]
  },
  {
   "cell_type": "code",
   "execution_count": 0,
   "metadata": {
    "colab": {},
    "colab_type": "code",
    "id": "w5mYVgAbBCkl"
   },
   "outputs": [],
   "source": [
    "global_pool = keras.layers.GlobalAveragePooling2D()(base_model.output)\n",
    "predictions = keras.layers.Dense(n_classes, activation = 'softmax')(global_pool)\n",
    "model_TL = keras.models.Model(base_model.input, predictions)"
   ]
  },
  {
   "cell_type": "code",
   "execution_count": 0,
   "metadata": {
    "colab": {},
    "colab_type": "code",
    "id": "Jt9kwjMsBEuT"
   },
   "outputs": [],
   "source": [
    "model_TL.compile(loss = \"sparse_categorical_crossentropy\", optimizer = 'adam', metrics = ['accuracy'])"
   ]
  },
  {
   "cell_type": "code",
   "execution_count": 26,
   "metadata": {
    "colab": {
     "base_uri": "https://localhost:8080/",
     "height": 391
    },
    "colab_type": "code",
    "id": "SFEAxfrrBHH5",
    "outputId": "681dd105-f734-4286-906a-33dfbf429b1a"
   },
   "outputs": [
    {
     "name": "stdout",
     "output_type": "stream",
     "text": [
      "Train on 115 samples, validate on 13 samples\n",
      "Epoch 1/10\n",
      "115/115 [==============================] - 10s 91ms/sample - loss: 2.0308 - acc: 0.2087 - val_loss: 2.0600 - val_acc: 0.2308\n",
      "Epoch 2/10\n",
      "115/115 [==============================] - 1s 10ms/sample - loss: 1.8102 - acc: 0.4870 - val_loss: 1.9322 - val_acc: 0.3846\n",
      "Epoch 3/10\n",
      "115/115 [==============================] - 1s 10ms/sample - loss: 1.6127 - acc: 0.7304 - val_loss: 1.8137 - val_acc: 0.4615\n",
      "Epoch 4/10\n",
      "115/115 [==============================] - 1s 10ms/sample - loss: 1.4281 - acc: 0.8174 - val_loss: 1.6971 - val_acc: 0.4615\n",
      "Epoch 5/10\n",
      "115/115 [==============================] - 1s 10ms/sample - loss: 1.2817 - acc: 0.8435 - val_loss: 1.5818 - val_acc: 0.6154\n",
      "Epoch 6/10\n",
      "115/115 [==============================] - 1s 10ms/sample - loss: 1.1502 - acc: 0.9130 - val_loss: 1.4783 - val_acc: 0.6923\n",
      "Epoch 7/10\n",
      "115/115 [==============================] - 1s 10ms/sample - loss: 0.9910 - acc: 0.9304 - val_loss: 1.3813 - val_acc: 0.7692\n",
      "Epoch 8/10\n",
      "115/115 [==============================] - 1s 10ms/sample - loss: 0.8704 - acc: 0.9565 - val_loss: 1.2903 - val_acc: 0.7692\n",
      "Epoch 9/10\n",
      "115/115 [==============================] - 1s 10ms/sample - loss: 0.7826 - acc: 0.9565 - val_loss: 1.2087 - val_acc: 0.7692\n",
      "Epoch 10/10\n",
      "115/115 [==============================] - 1s 10ms/sample - loss: 0.6998 - acc: 0.9739 - val_loss: 1.1388 - val_acc: 0.7692\n"
     ]
    },
    {
     "data": {
      "text/plain": [
       "<tensorflow.python.keras.callbacks.History at 0x7f8d8627b128>"
      ]
     },
     "execution_count": 26,
     "metadata": {
      "tags": []
     },
     "output_type": "execute_result"
    }
   ],
   "source": [
    "model_TL.fit(X_train, y_train, epochs = 10, validation_split = 0.1, batch_size = 64)"
   ]
  },
  {
   "cell_type": "code",
   "execution_count": 29,
   "metadata": {
    "colab": {
     "base_uri": "https://localhost:8080/",
     "height": 34
    },
    "colab_type": "code",
    "id": "JOBPCMgXBMD9",
    "outputId": "e9f7bd55-f7a3-41d0-f361-99a6a3854ee5"
   },
   "outputs": [
    {
     "name": "stdout",
     "output_type": "stream",
     "text": [
      "\r",
      "32/32 [==============================] - 0s 11ms/sample - loss: 0.9949 - acc: 0.8438\n"
     ]
    }
   ],
   "source": [
    "testLoss_tl, testacc_tl = model_TL.evaluate(X_test, y_test)"
   ]
  },
  {
   "cell_type": "code",
   "execution_count": 30,
   "metadata": {
    "colab": {
     "base_uri": "https://localhost:8080/",
     "height": 34
    },
    "colab_type": "code",
    "id": "bU5-DcgeBrLM",
    "outputId": "4b56d49c-2398-49a2-a965-0fb61f120b95"
   },
   "outputs": [
    {
     "name": "stdout",
     "output_type": "stream",
     "text": [
      "Test-loss: 0.994934, Test-Accuracy: 0.843750\n"
     ]
    }
   ],
   "source": [
    "print(\"Test-loss: %f, Test-Accuracy: %f\" %(testLoss_tl, testacc_tl))"
   ]
  },
  {
   "cell_type": "markdown",
   "metadata": {
    "colab_type": "text",
    "id": "IvwVeY_uKNim"
   },
   "source": [
    "## Save the np arrays to a file"
   ]
  },
  {
   "cell_type": "code",
   "execution_count": 0,
   "metadata": {
    "colab": {},
    "colab_type": "code",
    "id": "jnCfReDjCHui"
   },
   "outputs": [],
   "source": [
    "np.savez('/content/gdrive/My Drive/ML_Data/outdoor_data_20.npz', xtrain = X_train, xtest = X_test, ytrain = y_train, ytest = y_test)"
   ]
  },
  {
   "cell_type": "markdown",
   "metadata": {
    "colab_type": "text",
    "id": "QBj06utuKEDc"
   },
   "source": [
    "## **Function to load each array**"
   ]
  },
  {
   "cell_type": "code",
   "execution_count": 0,
   "metadata": {
    "colab": {},
    "colab_type": "code",
    "id": "uQ4mixY7IOUM"
   },
   "outputs": [],
   "source": [
    "def loadNpData():\n",
    "  data = np.load('/content/gdrive/My Drive/ML_Data/outdoor_data_20.npz')\n",
    "  X_train_ld = data['xtrain']\n",
    "  X_test_ld = data['xtest']  \n",
    "  y_train_ld = data['ytrain']  \n",
    "  y_test_ld = data['ytest']  \n",
    "  \n",
    "  return X_train_ld, X_test_ld, y_train_ld, y_test_ld"
   ]
  },
  {
   "cell_type": "code",
   "execution_count": 0,
   "metadata": {
    "colab": {},
    "colab_type": "code",
    "id": "hWIQUMcUKoT2"
   },
   "outputs": [],
   "source": [
    "X_train1, X_test1, y_train1, y_test1 = loadNpData()"
   ]
  },
  {
   "cell_type": "code",
   "execution_count": 46,
   "metadata": {
    "colab": {
     "base_uri": "https://localhost:8080/",
     "height": 34
    },
    "colab_type": "code",
    "id": "71OOVMYdMx9E",
    "outputId": "5d278688-d8e2-4495-9d96-b45eba350134"
   },
   "outputs": [
    {
     "data": {
      "text/plain": [
       "(128, 299, 299, 3)"
      ]
     },
     "execution_count": 46,
     "metadata": {
      "tags": []
     },
     "output_type": "execute_result"
    }
   ],
   "source": [
    "X_train1.shape"
   ]
  },
  {
   "cell_type": "code",
   "execution_count": 47,
   "metadata": {
    "colab": {
     "base_uri": "https://localhost:8080/",
     "height": 34
    },
    "colab_type": "code",
    "id": "PU-he1gjM055",
    "outputId": "e574e528-1676-4360-8fe1-b89a324f6f77"
   },
   "outputs": [
    {
     "data": {
      "text/plain": [
       "(32, 299, 299, 3)"
      ]
     },
     "execution_count": 47,
     "metadata": {
      "tags": []
     },
     "output_type": "execute_result"
    }
   ],
   "source": [
    "X_test1.shape"
   ]
  },
  {
   "cell_type": "code",
   "execution_count": 48,
   "metadata": {
    "colab": {
     "base_uri": "https://localhost:8080/",
     "height": 34
    },
    "colab_type": "code",
    "id": "YXRvRGABNbvs",
    "outputId": "e025cd66-f445-4998-8faf-8aae9c2ceb3c"
   },
   "outputs": [
    {
     "data": {
      "text/plain": [
       "(128,)"
      ]
     },
     "execution_count": 48,
     "metadata": {
      "tags": []
     },
     "output_type": "execute_result"
    }
   ],
   "source": [
    "y_train1.shape"
   ]
  },
  {
   "cell_type": "code",
   "execution_count": 49,
   "metadata": {
    "colab": {
     "base_uri": "https://localhost:8080/",
     "height": 34
    },
    "colab_type": "code",
    "id": "M2WgpdDpNhhd",
    "outputId": "d8bdf857-a143-40db-8015-6ef7cca8066d"
   },
   "outputs": [
    {
     "data": {
      "text/plain": [
       "(32,)"
      ]
     },
     "execution_count": 49,
     "metadata": {
      "tags": []
     },
     "output_type": "execute_result"
    }
   ],
   "source": [
    "y_test1.shape"
   ]
  },
  {
   "cell_type": "code",
   "execution_count": 0,
   "metadata": {
    "colab": {},
    "colab_type": "code",
    "id": "TdWkyIvcNkMz"
   },
   "outputs": [],
   "source": []
  }
 ],
 "metadata": {
  "accelerator": "GPU",
  "colab": {
   "collapsed_sections": [],
   "name": "outdoor_xception.ipynb",
   "provenance": [],
   "version": "0.3.2"
  },
  "kernelspec": {
   "display_name": "Python 3",
   "language": "python",
   "name": "python3"
  },
  "language_info": {
   "codemirror_mode": {
    "name": "ipython",
    "version": 3
   },
   "file_extension": ".py",
   "mimetype": "text/x-python",
   "name": "python",
   "nbconvert_exporter": "python",
   "pygments_lexer": "ipython3",
   "version": "3.6.7"
  }
 },
 "nbformat": 4,
 "nbformat_minor": 1
}
