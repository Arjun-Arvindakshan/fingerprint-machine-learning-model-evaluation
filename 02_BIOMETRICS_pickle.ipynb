{
 "cells": [
  {
   "cell_type": "code",
   "execution_count": 1,
   "metadata": {},
   "outputs": [],
   "source": [
    "import numpy as np\n",
    "import pandas as pd"
   ]
  },
  {
   "cell_type": "code",
   "execution_count": 2,
   "metadata": {},
   "outputs": [],
   "source": [
    "fpData = pd.read_csv('/home/arjun/machinelearning/num_exe/biometricsProject/arjun_fingerprint.csv')"
   ]
  },
  {
   "cell_type": "code",
   "execution_count": 3,
   "metadata": {},
   "outputs": [
    {
     "data": {
      "text/plain": [
       "(500, 7)"
      ]
     },
     "execution_count": 3,
     "metadata": {},
     "output_type": "execute_result"
    }
   ],
   "source": [
    "fpData.shape"
   ]
  },
  {
   "cell_type": "code",
   "execution_count": 4,
   "metadata": {},
   "outputs": [
    {
     "data": {
      "text/html": [
       "<div>\n",
       "<style scoped>\n",
       "    .dataframe tbody tr th:only-of-type {\n",
       "        vertical-align: middle;\n",
       "    }\n",
       "\n",
       "    .dataframe tbody tr th {\n",
       "        vertical-align: top;\n",
       "    }\n",
       "\n",
       "    .dataframe thead th {\n",
       "        text-align: right;\n",
       "    }\n",
       "</style>\n",
       "<table border=\"1\" class=\"dataframe\">\n",
       "  <thead>\n",
       "    <tr style=\"text-align: right;\">\n",
       "      <th></th>\n",
       "      <th>Contrast</th>\n",
       "      <th>Dissimilarity</th>\n",
       "      <th>Homogeneity</th>\n",
       "      <th>Energy</th>\n",
       "      <th>Correlation</th>\n",
       "      <th>ASM</th>\n",
       "      <th>Label</th>\n",
       "    </tr>\n",
       "  </thead>\n",
       "  <tbody>\n",
       "    <tr>\n",
       "      <th>0</th>\n",
       "      <td>985.770833</td>\n",
       "      <td>24.901786</td>\n",
       "      <td>0.042963</td>\n",
       "      <td>0.040916</td>\n",
       "      <td>0.395884</td>\n",
       "      <td>0.001674</td>\n",
       "      <td>1</td>\n",
       "    </tr>\n",
       "    <tr>\n",
       "      <th>1</th>\n",
       "      <td>405.327381</td>\n",
       "      <td>15.148810</td>\n",
       "      <td>0.071217</td>\n",
       "      <td>0.044094</td>\n",
       "      <td>0.734699</td>\n",
       "      <td>0.001944</td>\n",
       "      <td>1</td>\n",
       "    </tr>\n",
       "    <tr>\n",
       "      <th>2</th>\n",
       "      <td>874.752976</td>\n",
       "      <td>22.324405</td>\n",
       "      <td>0.069123</td>\n",
       "      <td>0.042768</td>\n",
       "      <td>0.392721</td>\n",
       "      <td>0.001829</td>\n",
       "      <td>1</td>\n",
       "    </tr>\n",
       "    <tr>\n",
       "      <th>3</th>\n",
       "      <td>3723.077381</td>\n",
       "      <td>53.684524</td>\n",
       "      <td>0.010147</td>\n",
       "      <td>0.040862</td>\n",
       "      <td>-0.556329</td>\n",
       "      <td>0.001670</td>\n",
       "      <td>1</td>\n",
       "    </tr>\n",
       "    <tr>\n",
       "      <th>4</th>\n",
       "      <td>1450.758929</td>\n",
       "      <td>30.330357</td>\n",
       "      <td>0.024589</td>\n",
       "      <td>0.044544</td>\n",
       "      <td>-0.492575</td>\n",
       "      <td>0.001984</td>\n",
       "      <td>1</td>\n",
       "    </tr>\n",
       "  </tbody>\n",
       "</table>\n",
       "</div>"
      ],
      "text/plain": [
       "      Contrast  Dissimilarity  Homogeneity    Energy  Correlation       ASM  \\\n",
       "0   985.770833      24.901786     0.042963  0.040916     0.395884  0.001674   \n",
       "1   405.327381      15.148810     0.071217  0.044094     0.734699  0.001944   \n",
       "2   874.752976      22.324405     0.069123  0.042768     0.392721  0.001829   \n",
       "3  3723.077381      53.684524     0.010147  0.040862    -0.556329  0.001670   \n",
       "4  1450.758929      30.330357     0.024589  0.044544    -0.492575  0.001984   \n",
       "\n",
       "   Label  \n",
       "0      1  \n",
       "1      1  \n",
       "2      1  \n",
       "3      1  \n",
       "4      1  "
      ]
     },
     "execution_count": 4,
     "metadata": {},
     "output_type": "execute_result"
    }
   ],
   "source": [
    "fpData.head()"
   ]
  },
  {
   "cell_type": "code",
   "execution_count": 9,
   "metadata": {},
   "outputs": [],
   "source": [
    "X = fpData.drop('Label', axis = 1)\n",
    "y = fpData['Label']\n",
    "#X\n",
    "#y"
   ]
  },
  {
   "cell_type": "code",
   "execution_count": 10,
   "metadata": {},
   "outputs": [],
   "source": [
    "from sklearn.model_selection import train_test_split"
   ]
  },
  {
   "cell_type": "code",
   "execution_count": 12,
   "metadata": {},
   "outputs": [],
   "source": [
    "X_train, X_test, y_train, y_test = train_test_split(X, y, test_size = 0.2, stratify = y, random_state = 1)"
   ]
  },
  {
   "cell_type": "code",
   "execution_count": 13,
   "metadata": {},
   "outputs": [],
   "source": [
    "from sklearn.preprocessing import StandardScaler"
   ]
  },
  {
   "cell_type": "code",
   "execution_count": 14,
   "metadata": {},
   "outputs": [
    {
     "name": "stdout",
     "output_type": "stream",
     "text": [
      "<class 'numpy.ndarray'>\n",
      "(400, 6)\n",
      "(100, 6)\n"
     ]
    }
   ],
   "source": [
    "sc_model = StandardScaler()\n",
    "sc_model.fit(X_train)\n",
    "X_train_std = sc_model.transform(X_train)\n",
    "X_test_std = sc_model.transform(X_test)\n",
    "\n",
    "print(type(X_train_std))\n",
    "print(X_train.shape)\n",
    "print(X_test.shape)"
   ]
  },
  {
   "cell_type": "code",
   "execution_count": 15,
   "metadata": {},
   "outputs": [],
   "source": [
    "import _pickle as pickle"
   ]
  },
  {
   "cell_type": "code",
   "execution_count": 16,
   "metadata": {},
   "outputs": [],
   "source": [
    "with open('fingerprint.dat','wb') as fp:\n",
    "    pickle.dump(X_train,fp)\n",
    "    pickle.dump(X_train_std,fp)\n",
    "    pickle.dump(X_test,fp)\n",
    "    pickle.dump(X_test_std,fp)    \n",
    "    pickle.dump(y_train,fp)   \n",
    "    pickle.dump(y_test,fp )"
   ]
  },
  {
   "cell_type": "code",
   "execution_count": null,
   "metadata": {},
   "outputs": [],
   "source": []
  }
 ],
 "metadata": {
  "kernelspec": {
   "display_name": "Python 3",
   "language": "python",
   "name": "python3"
  },
  "language_info": {
   "codemirror_mode": {
    "name": "ipython",
    "version": 3
   },
   "file_extension": ".py",
   "mimetype": "text/x-python",
   "name": "python",
   "nbconvert_exporter": "python",
   "pygments_lexer": "ipython3",
   "version": "3.6.7"
  }
 },
 "nbformat": 4,
 "nbformat_minor": 2
}
